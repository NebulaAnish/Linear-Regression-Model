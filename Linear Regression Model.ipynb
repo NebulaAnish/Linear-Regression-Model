{
 "cells": [
  {
   "cell_type": "code",
   "execution_count": 1,
   "id": "d9cd8860",
   "metadata": {},
   "outputs": [],
   "source": [
    "\n",
    "#importing numpy library\n",
    "import numpy as np"
   ]
  },
  {
   "cell_type": "markdown",
   "id": "1a81d2bb",
   "metadata": {},
   "source": [
    "## Linear Regression Model"
   ]
  },
  {
   "cell_type": "code",
   "execution_count": 5,
   "id": "e7bf15c7",
   "metadata": {},
   "outputs": [],
   "source": [
    "class Linear_Regression():\n",
    "    \n",
    "#initiating the parameters(learning rate and number of iterations)\n",
    "\n",
    "    def __init__(self, learning_rate, no_of_iterations ):\n",
    "        \n",
    "        self.learning_rate = learning_rate\n",
    "        self.no_of_iterations = no_of_iterations\n",
    "    \n",
    "    def fit(self, x, y ):\n",
    "#no of training examples and no of features\n",
    "        \n",
    "        self.m, self.n= x.shape \n",
    "#number of rows and columns\n",
    "#initiating the weight and bias\n",
    "\n",
    "        self.w = np.zeros(self.n)\n",
    "        self.b = 0\n",
    "        self.x = x\n",
    "        self.y = y\n",
    "#Gradient Descent implementation\n",
    "        \n",
    "    \n",
    "        for i in range(self.no_of_iterations):\n",
    "            self.update_weights()\n",
    "    \n",
    "    def update_weights(self):\n",
    "        \n",
    "        y_prediction = self.predict(self.x)\n",
    "        \n",
    "# calculate the gradients\n",
    "       \n",
    "    \n",
    "        dw = -(2 * (self.x.T).dot(self.y - y_prediction))/ self.m\n",
    "        db = -(2 * np.sum(self.y - y_prediction))/ self.m\n",
    "    \n",
    "#update weights\n",
    "        \n",
    "        self.w = self.w - self.learning_rate * dw\n",
    "        self.b = self.b - self.learning_rate * db\n",
    "        \n",
    "    \n",
    "    def predict(self, x):\n",
    "\n",
    "#implementing y = wx + b, x.dot(self.w) gives dot product of two vectos x and self.w\n",
    "        return x.dot(self.w) + b\n",
    "        "
   ]
  },
  {
   "cell_type": "code",
   "execution_count": null,
   "id": "a88f7063",
   "metadata": {},
   "outputs": [],
   "source": []
  }
 ],
 "metadata": {
  "kernelspec": {
   "display_name": "Python 3",
   "language": "python",
   "name": "python3"
  },
  "language_info": {
   "codemirror_mode": {
    "name": "ipython",
    "version": 3
   },
   "file_extension": ".py",
   "mimetype": "text/x-python",
   "name": "python",
   "nbconvert_exporter": "python",
   "pygments_lexer": "ipython3",
   "version": "3.9.6"
  }
 },
 "nbformat": 4,
 "nbformat_minor": 5
}
